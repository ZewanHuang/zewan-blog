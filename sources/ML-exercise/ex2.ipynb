{
 "cells": [
  {
   "cell_type": "markdown",
   "source": [
    "# 机器学习练习2-逻辑回归\r\n",
    "\r\n",
    "在这次练习中，将实现逻辑回归并应用到一个分类任务中；还将正则化加入训练算法，并使用更复杂的情形来测试它。"
   ],
   "metadata": {}
  },
  {
   "cell_type": "markdown",
   "source": [
    "## 逻辑回归\r\n",
    "\r\n",
    "首先，构建一个逻辑回归模型，通过学生两次测试的评分，来预测某个大学生是否被大学录取。为完成该任务，我们准备构建一个基于两次测试评分来评估录取可能性的分类模型。"
   ],
   "metadata": {}
  },
  {
   "cell_type": "code",
   "execution_count": 1,
   "source": [
    "import numpy as np\r\n",
    "import pandas as pd\r\n",
    "import matplotlib.pyplot as plt"
   ],
   "outputs": [],
   "metadata": {}
  },
  {
   "cell_type": "code",
   "execution_count": 2,
   "source": [
    "# 设置 plt 画布特征\r\n",
    "# plt.style.use('ggplot')\r\n",
    "import matplotlib\r\n",
    "matplotlib.rcParams['font.sans-serif'] = ['SimHei']\r\n",
    "matplotlib.rcParams['axes.unicode_minus'] = False\r\n",
    "plt.rcParams['font.sans-serif'] = ['Microsoft YaHei']\r\n",
    "%matplotlib inline"
   ],
   "outputs": [],
   "metadata": {}
  },
  {
   "cell_type": "code",
   "execution_count": 3,
   "source": [
    "path = 'ex2data1.txt'\r\n",
    "data = pd.read_csv(path, header=None, names=['Exam1', 'Exam2', 'Admitted'])\r\n",
    "data.head()"
   ],
   "outputs": [
    {
     "output_type": "execute_result",
     "data": {
      "text/html": [
       "<div>\n",
       "<style scoped>\n",
       "    .dataframe tbody tr th:only-of-type {\n",
       "        vertical-align: middle;\n",
       "    }\n",
       "\n",
       "    .dataframe tbody tr th {\n",
       "        vertical-align: top;\n",
       "    }\n",
       "\n",
       "    .dataframe thead th {\n",
       "        text-align: right;\n",
       "    }\n",
       "</style>\n",
       "<table border=\"1\" class=\"dataframe\">\n",
       "  <thead>\n",
       "    <tr style=\"text-align: right;\">\n",
       "      <th></th>\n",
       "      <th>Exam1</th>\n",
       "      <th>Exam2</th>\n",
       "      <th>Admitted</th>\n",
       "    </tr>\n",
       "  </thead>\n",
       "  <tbody>\n",
       "    <tr>\n",
       "      <th>0</th>\n",
       "      <td>34.623660</td>\n",
       "      <td>78.024693</td>\n",
       "      <td>0</td>\n",
       "    </tr>\n",
       "    <tr>\n",
       "      <th>1</th>\n",
       "      <td>30.286711</td>\n",
       "      <td>43.894998</td>\n",
       "      <td>0</td>\n",
       "    </tr>\n",
       "    <tr>\n",
       "      <th>2</th>\n",
       "      <td>35.847409</td>\n",
       "      <td>72.902198</td>\n",
       "      <td>0</td>\n",
       "    </tr>\n",
       "    <tr>\n",
       "      <th>3</th>\n",
       "      <td>60.182599</td>\n",
       "      <td>86.308552</td>\n",
       "      <td>1</td>\n",
       "    </tr>\n",
       "    <tr>\n",
       "      <th>4</th>\n",
       "      <td>79.032736</td>\n",
       "      <td>75.344376</td>\n",
       "      <td>1</td>\n",
       "    </tr>\n",
       "  </tbody>\n",
       "</table>\n",
       "</div>"
      ],
      "text/plain": [
       "       Exam1      Exam2  Admitted\n",
       "0  34.623660  78.024693         0\n",
       "1  30.286711  43.894998         0\n",
       "2  35.847409  72.902198         0\n",
       "3  60.182599  86.308552         1\n",
       "4  79.032736  75.344376         1"
      ]
     },
     "metadata": {},
     "execution_count": 3
    }
   ],
   "metadata": {}
  },
  {
   "cell_type": "code",
   "execution_count": 4,
   "source": [
    "# 绘制散点图，查看接纳和未接纳的正负样本数据\r\n",
    "pos = data[data['Admitted'].isin([1])]    # 筛选结果为1的行作为新dataframe\r\n",
    "neg = data[data['Admitted'].isin([0])]\r\n",
    "\r\n",
    "fig, ax = plt.subplots(figsize=(6,4))\r\n",
    "ax.scatter(pos['Exam1'], pos['Exam2'], c='dodgerblue', marker='o', label='Admitted')\r\n",
    "ax.scatter(neg['Exam1'], neg['Exam2'], c='red', marker='x', label='Unadmitted')\r\n",
    "ax.legend()\r\n",
    "ax.set_xlabel('Exam1 Score')\r\n",
    "ax.set_ylabel('Exam2 Score')\r\n",
    "ax.set_title('Admit result distribution')\r\n",
    "plt.show()"
   ],
   "outputs": [
    {
     "output_type": "display_data",
     "data": {
      "image/png": "[encoded data removed]",
      "text/plain": [
       "<Figure size 432x288 with 1 Axes>"
      ]
     },
     "metadata": {
      "needs_background": "light"
     }
    }
   ],
   "metadata": {}
  },
  {
   "cell_type": "markdown",
   "source": [
    "观察数据，可以看到决策边界趋近于一条直线，因此可以尝试使用线性加 Sigmoid 拟合。"
   ],
   "metadata": {}
  },
  {
   "cell_type": "markdown",
   "source": [
    "逻辑回归模型需要用到 Sigmoid 函数：\r\n",
    "\r\n",
    "$$\r\n",
    "g(z)=\\frac{1}{1+e^{-z}}\r\n",
    "$$"
   ],
   "metadata": {}
  },
  {
   "cell_type": "code",
   "execution_count": 5,
   "source": [
    "def sigmoid(z):\r\n",
    "    return 1 / (1 + np.exp(-z))"
   ],
   "outputs": [],
   "metadata": {}
  },
  {
   "cell_type": "markdown",
   "source": [
    "大致来看一下它的曲线"
   ],
   "metadata": {}
  },
  {
   "cell_type": "code",
   "execution_count": 6,
   "source": [
    "nums = np.arange(-10, 10, step=1)\r\n",
    "fig, ax = plt.subplots(figsize=(6,4))\r\n",
    "ax.plot(nums, sigmoid(nums), 'dodgerblue')\r\n",
    "plt.show()"
   ],
   "outputs": [
    {
     "output_type": "display_data",
     "data": {
      "image/png": "[encoded data removed]",
      "text/plain": [
       "<Figure size 432x288 with 1 Axes>"
      ]
     },
     "metadata": {
      "needs_background": "light"
     }
    }
   ],
   "metadata": {}
  },
  {
   "cell_type": "markdown",
   "source": [
    "我们知道，逻辑回归模型的假设函数为：\r\n",
    "$$\r\n",
    "h_{\\theta}(x)=g(\\theta^{T}x)\r\n",
    "$$\r\n",
    "\r\n",
    "代价函数为：\r\n",
    "$$\r\n",
    "J(\\theta) = -\\frac{1}{m} \\sum_{i=1}^{m} [ y^{(i)}log(h_{\\theta} (x^{(i)})) + (1-y^{(i)}) log(1-h_{\\theta}(x^{(i)})) ]\r\n",
    "$$\r\n",
    "\r\n",
    "向量化表示：\r\n",
    "$$\r\n",
    "J(\\theta) = \\frac{1}{m} \\cdot (-y^{T} log(h) - (1-y)^{T} log(1-h))\r\n",
    "$$"
   ],
   "metadata": {}
  },
  {
   "cell_type": "code",
   "execution_count": 7,
   "source": [
    "def cost(theta, X, y):\r\n",
    "    theta = np.matrix(theta)\r\n",
    "    X = np.matrix(X)\r\n",
    "    y = np.matrix(y)\r\n",
    "    first = np.multiply(-y, np.log(sigmoid(X * theta.T)))\r\n",
    "    second = np.multiply((1 - y), np.log(1 - sigmoid(X * theta.T)))\r\n",
    "    return np.sum(first - second) / (len(X))"
   ],
   "outputs": [],
   "metadata": {}
  },
  {
   "cell_type": "code",
   "execution_count": 8,
   "source": [
    "# add a ones column - this makes the matrix multiplication work out easier\r\n",
    "data.insert(0, 'Ones', 1)\r\n",
    "\r\n",
    "# set X (training data) and y (target variable)\r\n",
    "cols = data.shape[1]\r\n",
    "X = data.iloc[:,0:cols-1]\r\n",
    "y = data.iloc[:,cols-1:cols]\r\n",
    "\r\n",
    "# convert to numpy arrays and initalize the parameter array theta\r\n",
    "X = np.array(X.values)\r\n",
    "y = np.array(y.values)\r\n",
    "theta = np.zeros(3)"
   ],
   "outputs": [],
   "metadata": {}
  },
  {
   "cell_type": "code",
   "execution_count": 9,
   "source": [
    "# 测试初始成本值\r\n",
    "cost(theta, X, y)"
   ],
   "outputs": [
    {
     "output_type": "execute_result",
     "data": {
      "text/plain": [
       "0.6931471805599453"
      ]
     },
     "metadata": {},
     "execution_count": 9
    }
   ],
   "metadata": {}
  },
  {
   "cell_type": "markdown",
   "source": [
    "接下来看一下批量梯度下降算法：\r\n",
    "$$\r\n",
    "Repeat\\ \\{\r\n",
    "\\theta_{j}:=\\theta_{j}-\\frac{\\alpha}{m}\\sum_{i=1}^{m}(h_{\\theta}(x^{(i)})-y^{(i)})x_{j}^{(i)}\r\n",
    "\\}\r\n",
    "$$\r\n",
    "\r\n",
    "下面我们先来计算每一步优化，各参数值的变化，即：\r\n",
    "\r\n",
    "$$\r\n",
    "\\frac{1}{m}\\sum_{i=1}^{m}(h_{\\theta}(x^{(i)})-y^{(i)})x_{j}^{(i)}\r\n",
    "$$"
   ],
   "metadata": {}
  },
  {
   "cell_type": "code",
   "execution_count": 10,
   "source": [
    "def gradient(theta, X, y):\r\n",
    "    theta = np.matrix(theta)\r\n",
    "    X = np.matrix(X)\r\n",
    "    y = np.matrix(y)\r\n",
    "    \r\n",
    "    parameters = int(theta.ravel().shape[1])\r\n",
    "    grad = np.zeros(parameters)\r\n",
    "    \r\n",
    "    error = sigmoid(X * theta.T) - y\r\n",
    "    \r\n",
    "    for i in range(parameters):\r\n",
    "        term = np.multiply(error, X[:,i])\r\n",
    "        grad[i] = np.sum(term) / len(X)\r\n",
    "    \r\n",
    "    return grad"
   ],
   "outputs": [],
   "metadata": {}
  },
  {
   "cell_type": "code",
   "execution_count": 11,
   "source": [
    "gradient(theta, X, y)"
   ],
   "outputs": [
    {
     "output_type": "execute_result",
     "data": {
      "text/plain": [
       "array([ -0.1       , -12.00921659, -11.26284221])"
      ]
     },
     "metadata": {},
     "execution_count": 11
    }
   ],
   "metadata": {}
  },
  {
   "cell_type": "markdown",
   "source": [
    "现在可以用SciPy's truncated newton（TNC）实现寻找最优参数。"
   ],
   "metadata": {}
  },
  {
   "cell_type": "code",
   "execution_count": 12,
   "source": [
    "import scipy.optimize as opt\r\n",
    "result = opt.fmin_tnc(func=cost, x0=theta, fprime=gradient, args=(X, y))\r\n",
    "result"
   ],
   "outputs": [
    {
     "output_type": "execute_result",
     "data": {
      "text/plain": [
       "(array([-25.16131866,   0.20623159,   0.20147149]), 36, 0)"
      ]
     },
     "metadata": {},
     "execution_count": 12
    }
   ],
   "metadata": {}
  },
  {
   "cell_type": "code",
   "execution_count": 13,
   "source": [
    "# 优化后的成本\r\n",
    "cost(result[0], X, y)"
   ],
   "outputs": [
    {
     "output_type": "execute_result",
     "data": {
      "text/plain": [
       "0.20349770158947447"
      ]
     },
     "metadata": {},
     "execution_count": 13
    }
   ],
   "metadata": {}
  },
  {
   "cell_type": "code",
   "execution_count": 14,
   "source": [
    "# 预测值小于0.5时取0，反之取1\r\n",
    "def predict(theta, X):\r\n",
    "    probability = sigmoid(X * theta.T)\r\n",
    "    return [1 if x >= 0.5 else 0 for x in probability]"
   ],
   "outputs": [],
   "metadata": {}
  },
  {
   "cell_type": "code",
   "execution_count": 15,
   "source": [
    "theta_min = np.matrix(result[0])\r\n",
    "predictions = predict(theta_min, X)\r\n",
    "correct = [1 if ((a == 1 and b == 1) or (a == 0 and b == 0)) else 0 for (a, b) in zip(predictions, y)]\r\n",
    "accuracy = (sum(map(int, correct)) % len(correct))\r\n",
    "print ('accuracy = {0}%'.format(accuracy))"
   ],
   "outputs": [
    {
     "output_type": "stream",
     "name": "stdout",
     "text": [
      "accuracy = 89%\n"
     ]
    }
   ],
   "metadata": {}
  },
  {
   "cell_type": "markdown",
   "source": [
    "## 正则化逻辑回归"
   ],
   "metadata": {}
  },
  {
   "cell_type": "code",
   "execution_count": 16,
   "source": [
    "path = 'ex2data2.txt'\r\n",
    "data2 = pd.read_csv(path, header=None, names=['Test1', 'Test2', 'Accepted'])\r\n",
    "data2.head()"
   ],
   "outputs": [
    {
     "output_type": "execute_result",
     "data": {
      "text/html": [
       "<div>\n",
       "<style scoped>\n",
       "    .dataframe tbody tr th:only-of-type {\n",
       "        vertical-align: middle;\n",
       "    }\n",
       "\n",
       "    .dataframe tbody tr th {\n",
       "        vertical-align: top;\n",
       "    }\n",
       "\n",
       "    .dataframe thead th {\n",
       "        text-align: right;\n",
       "    }\n",
       "</style>\n",
       "<table border=\"1\" class=\"dataframe\">\n",
       "  <thead>\n",
       "    <tr style=\"text-align: right;\">\n",
       "      <th></th>\n",
       "      <th>Test1</th>\n",
       "      <th>Test2</th>\n",
       "      <th>Accepted</th>\n",
       "    </tr>\n",
       "  </thead>\n",
       "  <tbody>\n",
       "    <tr>\n",
       "      <th>0</th>\n",
       "      <td>0.051267</td>\n",
       "      <td>0.69956</td>\n",
       "      <td>1</td>\n",
       "    </tr>\n",
       "    <tr>\n",
       "      <th>1</th>\n",
       "      <td>-0.092742</td>\n",
       "      <td>0.68494</td>\n",
       "      <td>1</td>\n",
       "    </tr>\n",
       "    <tr>\n",
       "      <th>2</th>\n",
       "      <td>-0.213710</td>\n",
       "      <td>0.69225</td>\n",
       "      <td>1</td>\n",
       "    </tr>\n",
       "    <tr>\n",
       "      <th>3</th>\n",
       "      <td>-0.375000</td>\n",
       "      <td>0.50219</td>\n",
       "      <td>1</td>\n",
       "    </tr>\n",
       "    <tr>\n",
       "      <th>4</th>\n",
       "      <td>-0.513250</td>\n",
       "      <td>0.46564</td>\n",
       "      <td>1</td>\n",
       "    </tr>\n",
       "  </tbody>\n",
       "</table>\n",
       "</div>"
      ],
      "text/plain": [
       "      Test1    Test2  Accepted\n",
       "0  0.051267  0.69956         1\n",
       "1 -0.092742  0.68494         1\n",
       "2 -0.213710  0.69225         1\n",
       "3 -0.375000  0.50219         1\n",
       "4 -0.513250  0.46564         1"
      ]
     },
     "metadata": {},
     "execution_count": 16
    }
   ],
   "metadata": {}
  },
  {
   "cell_type": "code",
   "execution_count": 17,
   "source": [
    "# 绘制散点图，查看接纳和未接纳的正负样本数据\r\n",
    "pos = data2[data2['Accepted'].isin([1])]    # 筛选结果为1的行作为新dataframe\r\n",
    "neg = data2[data2['Accepted'].isin([0])]\r\n",
    "\r\n",
    "fig, ax = plt.subplots(figsize=(6,4))\r\n",
    "ax.scatter(pos['Test1'], pos['Test2'], c='dodgerblue', marker='o', label='Accepted')\r\n",
    "ax.scatter(neg['Test1'], neg['Test2'], c='red', marker='x', label='UnAccepted')\r\n",
    "ax.legend()\r\n",
    "ax.set_xlabel('Test1 Score')\r\n",
    "ax.set_ylabel('Test2 Score')\r\n",
    "ax.set_title('Accepted result distribution')\r\n",
    "plt.show()"
   ],
   "outputs": [
    {
     "output_type": "display_data",
     "data": {
      "image/png": "[encoded data removed]",
      "text/plain": [
       "<Figure size 432x288 with 1 Axes>"
      ]
     },
     "metadata": {
      "needs_background": "light"
     }
    }
   ],
   "metadata": {}
  },
  {
   "cell_type": "markdown",
   "source": [
    "可以看到，这组数据的决策边界并不是线性的，因此我们并不能用线性模型去拟合，这里我们对原特征进行处理，将其合成多次多项式特征之和。\r\n",
    "\r\n",
    "$$\r\n",
    "\\theta_{0} + \\theta_{1}x_{1} + \\theta_{2}x_{2} + \\theta_{3}x_{1}^{2} + \\theta_{4}x_{1}x_{2} + \\theta_{5}x_{2}^{2} + \\theta_{6}x_{1}^{2}x_{2} + \\theta_{7}x_{1}x_{2}^{2}\r\n",
    "$$"
   ],
   "metadata": {}
  },
  {
   "cell_type": "code",
   "execution_count": 18,
   "source": [
    "x1 = data2['Test1']\r\n",
    "x2 = data2['Test2']\r\n",
    "\r\n",
    "data2.insert(3, 'Ones', 1)\r\n",
    "\r\n",
    "data2['F10'] = x1\r\n",
    "data2['F01'] = x2\r\n",
    "data2['F20'] = np.power(x1,2)\r\n",
    "data2['F11'] = x1 * x2\r\n",
    "data2['F02'] = np.power(x2,2)\r\n",
    "data2['F21'] = np.power(x1,2) * x2\r\n",
    "data2['F12'] = x1 * np.power(x2,2)\r\n",
    "\r\n",
    "data2.drop('Test1', axis=1, inplace=True)\r\n",
    "data2.drop('Test2', axis=1, inplace=True)\r\n",
    "\r\n",
    "data2.head()"
   ],
   "outputs": [
    {
     "output_type": "execute_result",
     "data": {
      "text/html": [
       "<div>\n",
       "<style scoped>\n",
       "    .dataframe tbody tr th:only-of-type {\n",
       "        vertical-align: middle;\n",
       "    }\n",
       "\n",
       "    .dataframe tbody tr th {\n",
       "        vertical-align: top;\n",
       "    }\n",
       "\n",
       "    .dataframe thead th {\n",
       "        text-align: right;\n",
       "    }\n",
       "</style>\n",
       "<table border=\"1\" class=\"dataframe\">\n",
       "  <thead>\n",
       "    <tr style=\"text-align: right;\">\n",
       "      <th></th>\n",
       "      <th>Accepted</th>\n",
       "      <th>Ones</th>\n",
       "      <th>F10</th>\n",
       "      <th>F01</th>\n",
       "      <th>F20</th>\n",
       "      <th>F11</th>\n",
       "      <th>F02</th>\n",
       "      <th>F21</th>\n",
       "      <th>F12</th>\n",
       "    </tr>\n",
       "  </thead>\n",
       "  <tbody>\n",
       "    <tr>\n",
       "      <th>0</th>\n",
       "      <td>1</td>\n",
       "      <td>1</td>\n",
       "      <td>0.051267</td>\n",
       "      <td>0.69956</td>\n",
       "      <td>0.002628</td>\n",
       "      <td>0.035864</td>\n",
       "      <td>0.489384</td>\n",
       "      <td>0.001839</td>\n",
       "      <td>0.025089</td>\n",
       "    </tr>\n",
       "    <tr>\n",
       "      <th>1</th>\n",
       "      <td>1</td>\n",
       "      <td>1</td>\n",
       "      <td>-0.092742</td>\n",
       "      <td>0.68494</td>\n",
       "      <td>0.008601</td>\n",
       "      <td>-0.063523</td>\n",
       "      <td>0.469143</td>\n",
       "      <td>0.005891</td>\n",
       "      <td>-0.043509</td>\n",
       "    </tr>\n",
       "    <tr>\n",
       "      <th>2</th>\n",
       "      <td>1</td>\n",
       "      <td>1</td>\n",
       "      <td>-0.213710</td>\n",
       "      <td>0.69225</td>\n",
       "      <td>0.045672</td>\n",
       "      <td>-0.147941</td>\n",
       "      <td>0.479210</td>\n",
       "      <td>0.031616</td>\n",
       "      <td>-0.102412</td>\n",
       "    </tr>\n",
       "    <tr>\n",
       "      <th>3</th>\n",
       "      <td>1</td>\n",
       "      <td>1</td>\n",
       "      <td>-0.375000</td>\n",
       "      <td>0.50219</td>\n",
       "      <td>0.140625</td>\n",
       "      <td>-0.188321</td>\n",
       "      <td>0.252195</td>\n",
       "      <td>0.070620</td>\n",
       "      <td>-0.094573</td>\n",
       "    </tr>\n",
       "    <tr>\n",
       "      <th>4</th>\n",
       "      <td>1</td>\n",
       "      <td>1</td>\n",
       "      <td>-0.513250</td>\n",
       "      <td>0.46564</td>\n",
       "      <td>0.263426</td>\n",
       "      <td>-0.238990</td>\n",
       "      <td>0.216821</td>\n",
       "      <td>0.122661</td>\n",
       "      <td>-0.111283</td>\n",
       "    </tr>\n",
       "  </tbody>\n",
       "</table>\n",
       "</div>"
      ],
      "text/plain": [
       "   Accepted  Ones       F10      F01       F20       F11       F02       F21  \\\n",
       "0         1     1  0.051267  0.69956  0.002628  0.035864  0.489384  0.001839   \n",
       "1         1     1 -0.092742  0.68494  0.008601 -0.063523  0.469143  0.005891   \n",
       "2         1     1 -0.213710  0.69225  0.045672 -0.147941  0.479210  0.031616   \n",
       "3         1     1 -0.375000  0.50219  0.140625 -0.188321  0.252195  0.070620   \n",
       "4         1     1 -0.513250  0.46564  0.263426 -0.238990  0.216821  0.122661   \n",
       "\n",
       "        F12  \n",
       "0  0.025089  \n",
       "1 -0.043509  \n",
       "2 -0.102412  \n",
       "3 -0.094573  \n",
       "4 -0.111283  "
      ]
     },
     "metadata": {},
     "execution_count": 18
    }
   ],
   "metadata": {}
  },
  {
   "cell_type": "markdown",
   "source": [
    "因为特征数目增多，我们将特征进行正则化；正则化逻辑回归的成本函数：\r\n",
    "\r\n",
    "$$\r\n",
    "J(\\theta) =\r\n",
    "\\frac{1}{m} \\sum_{i=1}^{m}\r\n",
    "[-y^{(i)}\\log(h_{\\theta}(x^{(i)})) - (1-y^{(i)})\\log(1-h_{\\theta}(x^{(i)}))] + \\frac{\\lambda}{2m} \\sum_{j=1}^{n} \\theta_{j}^{2}\r\n",
    "$$"
   ],
   "metadata": {}
  },
  {
   "cell_type": "code",
   "execution_count": 19,
   "source": [
    "def costReg(theta, X, y, learningRate):\r\n",
    "    theta = np.matrix(theta)\r\n",
    "    X = np.matrix(X)\r\n",
    "    y = np.matrix(y)\r\n",
    "    first = np.multiply(-y, np.log(sigmoid(X * theta.T)))\r\n",
    "    second = np.multiply((1 - y), np.log(1 - sigmoid(X * theta.T)))\r\n",
    "    reg = (learningRate / (2 * len(X))) * np.sum(np.power(theta[:,1:theta.shape[1]], 2))\r\n",
    "    return np.sum(first - second) / len(X) + reg"
   ],
   "outputs": [],
   "metadata": {}
  },
  {
   "cell_type": "markdown",
   "source": [
    "正则化逻辑回归的梯度下降算法：\r\n",
    "\r\n",
    "$$\r\n",
    "\\mathbf{Repeat}\\ \\{\r\n",
    "\\begin{aligned}\r\n",
    "\\theta_{0} : &= \\theta_{0} - \\alpha \\frac{1}{m} \\sum_{i=1}^{m} (h_{\\theta}(x^{(i)}) - y^{(i)}) x_{0}^{(i)}\\\\\r\n",
    "\\theta_{j} : &= \\theta_{j} - \\alpha [ \\frac{1}{m} \\sum_{i=1}^{m} (h_{\\theta}(x^{(i)}) - y^{(i)}) x_{j}^{(i)} + \\frac{\\lambda}{m} \\theta_{j} ], \\ j\\in \\{1,2,\\cdots,n\\}\r\n",
    "\\end{aligned}\r\n",
    "\\}\r\n",
    "$$"
   ],
   "metadata": {}
  },
  {
   "cell_type": "code",
   "execution_count": 20,
   "source": [
    "def gradientReg(theta, X, y, learningRate):\r\n",
    "    theta = np.matrix(theta)\r\n",
    "    X = np.matrix(X)\r\n",
    "    y = np.matrix(y)\r\n",
    "    \r\n",
    "    parameters = int(theta.ravel().shape[1])\r\n",
    "    grad = np.zeros(parameters)\r\n",
    "    \r\n",
    "    error = sigmoid(X * theta.T) - y\r\n",
    "    \r\n",
    "    for i in range(parameters):\r\n",
    "        term = np.multiply(error, X[:,i])\r\n",
    "        \r\n",
    "        if (i == 0):\r\n",
    "            grad[i] = np.sum(term) / len(X)\r\n",
    "        else:\r\n",
    "            grad[i] = (np.sum(term) / len(X)) + ((learningRate / len(X)) * theta[:,i])\r\n",
    "    \r\n",
    "    return grad"
   ],
   "outputs": [],
   "metadata": {}
  },
  {
   "cell_type": "code",
   "execution_count": 21,
   "source": [
    "# set X and y (remember from above that we moved the label to column 0)\r\n",
    "cols = data2.shape[1]\r\n",
    "X2 = data2.iloc[:,1:cols]\r\n",
    "y2 = data2.iloc[:,0:1]\r\n",
    "\r\n",
    "# convert to numpy arrays and initalize the parameter array theta\r\n",
    "X2 = np.array(X2.values)\r\n",
    "y2 = np.array(y2.values)\r\n",
    "theta2 = np.zeros(8)"
   ],
   "outputs": [],
   "metadata": {}
  },
  {
   "cell_type": "code",
   "execution_count": 22,
   "source": [
    "learningRate = 1    # 暂时取1，后续可调整"
   ],
   "outputs": [],
   "metadata": {}
  },
  {
   "cell_type": "code",
   "execution_count": 23,
   "source": [
    "costReg(theta2, X2, y2, learningRate)"
   ],
   "outputs": [
    {
     "output_type": "execute_result",
     "data": {
      "text/plain": [
       "0.6931471805599454"
      ]
     },
     "metadata": {},
     "execution_count": 23
    }
   ],
   "metadata": {}
  },
  {
   "cell_type": "code",
   "execution_count": 24,
   "source": [
    "gradientReg(theta2, X2, y2, learningRate)"
   ],
   "outputs": [
    {
     "output_type": "execute_result",
     "data": {
      "text/plain": [
       "array([8.47457627e-03, 1.87880932e-02, 7.77711864e-05, 5.03446395e-02,\n",
       "       1.15013308e-02, 3.76648474e-02, 7.32393391e-03, 8.19244468e-03])"
      ]
     },
     "metadata": {},
     "execution_count": 24
    }
   ],
   "metadata": {}
  },
  {
   "cell_type": "code",
   "execution_count": 25,
   "source": [
    "result2 = opt.fmin_tnc(func=costReg, x0=theta2, fprime=gradientReg, args=(X2, y2, learningRate))\r\n",
    "result2"
   ],
   "outputs": [
    {
     "output_type": "execute_result",
     "data": {
      "text/plain": [
       "(array([ 1.20183793,  0.37813794,  0.70705086, -2.76170828, -0.88656047,\n",
       "        -2.38918377, -0.35214178, -0.26341625]),\n",
       " 24,\n",
       " 1)"
      ]
     },
     "metadata": {},
     "execution_count": 25
    }
   ],
   "metadata": {}
  },
  {
   "cell_type": "code",
   "execution_count": 26,
   "source": [
    "theta_min = np.matrix(result2[0])\r\n",
    "predictions = predict(theta_min, X2)\r\n",
    "correct = [1 if ((a == 1 and b == 1) or (a == 0 and b == 0)) else 0 for (a, b) in zip(predictions, y2)]\r\n",
    "accuracy = (sum(map(int, correct)) % len(correct))\r\n",
    "print ('accuracy = {0}%'.format(accuracy))"
   ],
   "outputs": [
    {
     "output_type": "stream",
     "name": "stdout",
     "text": [
      "accuracy = 95%\n"
     ]
    }
   ],
   "metadata": {}
  },
  {
   "cell_type": "code",
   "execution_count": null,
   "source": [],
   "outputs": [],
   "metadata": {}
  }
 ],
 "metadata": {
  "orig_nbformat": 4,
  "language_info": {
   "name": "python",
   "version": "3.9.1",
   "mimetype": "text/x-python",
   "codemirror_mode": {
    "name": "ipython",
    "version": 3
   },
   "pygments_lexer": "ipython3",
   "nbconvert_exporter": "python",
   "file_extension": ".py"
  },
  "kernelspec": {
   "name": "python3",
   "display_name": "Python 3.9.1 64-bit"
  },
  "interpreter": {
   "hash": "0d008810b9c8467bcb3ca39aa2180e5b81b3a9acb136aab30d47954377cc5120"
  }
 },
 "nbformat": 4,
 "nbformat_minor": 2
}