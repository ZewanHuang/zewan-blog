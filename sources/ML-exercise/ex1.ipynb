{
 "cells": [
  {
   "cell_type": "code",
   "execution_count": 1,
   "source": [
    "import numpy as np\r\n",
    "import pandas as pd\r\n",
    "import matplotlib.pyplot as plt"
   ],
   "outputs": [],
   "metadata": {}
  },
  {
   "cell_type": "code",
   "execution_count": 2,
   "source": [
    "# 设置 plt 画布特征\r\n",
    "# plt.style.use('ggplot')\r\n",
    "import matplotlib\r\n",
    "matplotlib.rcParams['font.sans-serif'] = ['SimHei']\r\n",
    "matplotlib.rcParams['axes.unicode_minus'] = False\r\n",
    "plt.rcParams['font.sans-serif'] = ['Microsoft YaHei']\r\n",
    "%matplotlib inline"
   ],
   "outputs": [],
   "metadata": {}
  },
  {
   "cell_type": "markdown",
   "source": [
    "本练习内容主要是线性回归，不管是单变量还是多变量，模型的成本函数和梯度下降算法表示一致。"
   ],
   "metadata": {}
  },
  {
   "cell_type": "markdown",
   "source": [
    "## 代价函数\r\n",
    "$$\r\n",
    "J(\\theta_{0},\\theta_{1})=\\frac{1}{2m}\\sum_{i=1}^{m}(h_{\\theta}(x^{(i)})-y^{(i)})^2\r\n",
    "$$\r\n",
    "其中，$h_{\\theta}(x)=\\theta_{0}x_{0}+\\theta_{1}x_{1}+\\theta_{2}x_{2}+…+\\theta_{n}x_{n}$\r\n",
    "\r\n",
    "向量化表示：\r\n",
    "$$\r\n",
    "J(\\theta) = \\frac{1}{2m}(X\\theta^{T}-y)^{2}\r\n",
    "$$\r\n",
    "其中，此公式的平方指，向量各值的平方。"
   ],
   "metadata": {}
  },
  {
   "cell_type": "code",
   "execution_count": 3,
   "source": [
    "# 计算成本函数\r\n",
    "def computeCost(X, y, theta):\r\n",
    "    inner = np.power(((X * theta.T) - y), 2)\r\n",
    "    return np.sum(inner) / (2 * len(X))"
   ],
   "outputs": [],
   "metadata": {}
  },
  {
   "cell_type": "markdown",
   "source": [
    "## 批量下降算法\r\n",
    "\r\n",
    "$$\r\n",
    "\\theta_{j}:=\\theta_{j}-\\alpha\\frac{\\partial}{\\partial\\theta_{j}}J(\\theta_{0},\\theta_{1},...,\\theta_{n})\r\n",
    "$$\r\n",
    "\r\n",
    "数学推导式：\r\n",
    "$$\r\n",
    "\\theta_{j}:=\\theta_{j}-\\alpha\\frac{1}{m}\\sum_{i=1}^{m}((h_{\\theta}(x^{(i)})-y^{(i)})\\cdot x_{j}^{i})\r\n",
    "$$"
   ],
   "metadata": {}
  },
  {
   "cell_type": "code",
   "execution_count": 4,
   "source": [
    "# 批量下降算法\r\n",
    "def gradientDescent(X, y, theta, alpha, iters):\r\n",
    "    temp = np.matrix(np.zeros(theta.shape))\r\n",
    "    parameters = int(theta.ravel().shape[1])\r\n",
    "    cost = np.zeros(iters)\r\n",
    "\r\n",
    "    for i in range(iters):\r\n",
    "        error = (X * theta.T) - y\r\n",
    "\r\n",
    "        for j in range(parameters):\r\n",
    "            term = np.multiply(error, X[:,j])\r\n",
    "            temp[0,j] = theta[0,j] - ((alpha / len(X)) * np.sum(term))\r\n",
    "        \r\n",
    "        theta = temp\r\n",
    "        cost[i] = computeCost(X, y, theta)\r\n",
    "    \r\n",
    "    return theta, cost"
   ],
   "outputs": [],
   "metadata": {}
  },
  {
   "cell_type": "markdown",
   "source": [
    "## 单变量线性回归"
   ],
   "metadata": {}
  },
  {
   "cell_type": "code",
   "execution_count": 5,
   "source": [
    "# 读取 ex1data1 数据，第一列为 Population，第二列为 Profit\r\n",
    "path = 'ex1data1.txt'\r\n",
    "data = pd.read_csv(path, header=None, names=['Population', 'Profit'])\r\n",
    "data.head()"
   ],
   "outputs": [
    {
     "output_type": "execute_result",
     "data": {
      "text/html": [
       "<div>\n",
       "<style scoped>\n",
       "    .dataframe tbody tr th:only-of-type {\n",
       "        vertical-align: middle;\n",
       "    }\n",
       "\n",
       "    .dataframe tbody tr th {\n",
       "        vertical-align: top;\n",
       "    }\n",
       "\n",
       "    .dataframe thead th {\n",
       "        text-align: right;\n",
       "    }\n",
       "</style>\n",
       "<table border=\"1\" class=\"dataframe\">\n",
       "  <thead>\n",
       "    <tr style=\"text-align: right;\">\n",
       "      <th></th>\n",
       "      <th>Population</th>\n",
       "      <th>Profit</th>\n",
       "    </tr>\n",
       "  </thead>\n",
       "  <tbody>\n",
       "    <tr>\n",
       "      <th>0</th>\n",
       "      <td>6.1101</td>\n",
       "      <td>17.5920</td>\n",
       "    </tr>\n",
       "    <tr>\n",
       "      <th>1</th>\n",
       "      <td>5.5277</td>\n",
       "      <td>9.1302</td>\n",
       "    </tr>\n",
       "    <tr>\n",
       "      <th>2</th>\n",
       "      <td>8.5186</td>\n",
       "      <td>13.6620</td>\n",
       "    </tr>\n",
       "    <tr>\n",
       "      <th>3</th>\n",
       "      <td>7.0032</td>\n",
       "      <td>11.8540</td>\n",
       "    </tr>\n",
       "    <tr>\n",
       "      <th>4</th>\n",
       "      <td>5.8598</td>\n",
       "      <td>6.8233</td>\n",
       "    </tr>\n",
       "  </tbody>\n",
       "</table>\n",
       "</div>"
      ],
      "text/plain": [
       "   Population   Profit\n",
       "0      6.1101  17.5920\n",
       "1      5.5277   9.1302\n",
       "2      8.5186  13.6620\n",
       "3      7.0032  11.8540\n",
       "4      5.8598   6.8233"
      ]
     },
     "metadata": {},
     "execution_count": 5
    }
   ],
   "metadata": {}
  },
  {
   "cell_type": "code",
   "execution_count": 6,
   "source": [
    "'''\r\n",
    "数据预处理——输入变量添加单位列\r\n",
    "\r\n",
    "使用向量化运算前，需要在数据中添加新列，值全为 1.\r\n",
    "X = [X_0, X_1]\r\n",
    "theta = [theta_0, theta_1]\r\n",
    "Y = X * theta.T\r\n",
    "'''\r\n",
    "data.insert(0, 'Ones', 1)\r\n",
    "data.head(5)"
   ],
   "outputs": [
    {
     "output_type": "execute_result",
     "data": {
      "text/html": [
       "<div>\n",
       "<style scoped>\n",
       "    .dataframe tbody tr th:only-of-type {\n",
       "        vertical-align: middle;\n",
       "    }\n",
       "\n",
       "    .dataframe tbody tr th {\n",
       "        vertical-align: top;\n",
       "    }\n",
       "\n",
       "    .dataframe thead th {\n",
       "        text-align: right;\n",
       "    }\n",
       "</style>\n",
       "<table border=\"1\" class=\"dataframe\">\n",
       "  <thead>\n",
       "    <tr style=\"text-align: right;\">\n",
       "      <th></th>\n",
       "      <th>Ones</th>\n",
       "      <th>Population</th>\n",
       "      <th>Profit</th>\n",
       "    </tr>\n",
       "  </thead>\n",
       "  <tbody>\n",
       "    <tr>\n",
       "      <th>0</th>\n",
       "      <td>1</td>\n",
       "      <td>6.1101</td>\n",
       "      <td>17.5920</td>\n",
       "    </tr>\n",
       "    <tr>\n",
       "      <th>1</th>\n",
       "      <td>1</td>\n",
       "      <td>5.5277</td>\n",
       "      <td>9.1302</td>\n",
       "    </tr>\n",
       "    <tr>\n",
       "      <th>2</th>\n",
       "      <td>1</td>\n",
       "      <td>8.5186</td>\n",
       "      <td>13.6620</td>\n",
       "    </tr>\n",
       "    <tr>\n",
       "      <th>3</th>\n",
       "      <td>1</td>\n",
       "      <td>7.0032</td>\n",
       "      <td>11.8540</td>\n",
       "    </tr>\n",
       "    <tr>\n",
       "      <th>4</th>\n",
       "      <td>1</td>\n",
       "      <td>5.8598</td>\n",
       "      <td>6.8233</td>\n",
       "    </tr>\n",
       "  </tbody>\n",
       "</table>\n",
       "</div>"
      ],
      "text/plain": [
       "   Ones  Population   Profit\n",
       "0     1      6.1101  17.5920\n",
       "1     1      5.5277   9.1302\n",
       "2     1      8.5186  13.6620\n",
       "3     1      7.0032  11.8540\n",
       "4     1      5.8598   6.8233"
      ]
     },
     "metadata": {},
     "execution_count": 6
    }
   ],
   "metadata": {}
  },
  {
   "cell_type": "code",
   "execution_count": 7,
   "source": [
    "# 提取输入和输出变量\r\n",
    "cols = data.shape[1]\r\n",
    "X = data.iloc[:, 0:cols-1]\r\n",
    "y = data.iloc[:, cols-1: cols]"
   ],
   "outputs": [],
   "metadata": {}
  },
  {
   "cell_type": "code",
   "execution_count": 8,
   "source": [
    "# 代价函数传入参数为 numpy 矩阵，需要转换为矩阵，并初始化参数\r\n",
    "X = np.matrix(X)\r\n",
    "y = np.matrix(y)\r\n",
    "theta = np.matrix(np.array([0, 0]))"
   ],
   "outputs": [],
   "metadata": {}
  },
  {
   "cell_type": "code",
   "execution_count": 9,
   "source": [
    "# 设置参数——学习率与迭代次数\r\n",
    "alpha = 0.01\r\n",
    "iters = 1000"
   ],
   "outputs": [],
   "metadata": {}
  },
  {
   "cell_type": "code",
   "execution_count": 10,
   "source": [
    "# 模型训练\r\n",
    "g, cost = gradientDescent(X, y, theta, alpha, iters)\r\n",
    "g, cost[-1]"
   ],
   "outputs": [
    {
     "output_type": "execute_result",
     "data": {
      "text/plain": [
       "(matrix([[-3.24140214,  1.1272942 ]]), 4.515955503078914)"
      ]
     },
     "metadata": {},
     "execution_count": 10
    }
   ],
   "metadata": {}
  },
  {
   "cell_type": "code",
   "execution_count": 11,
   "source": [
    "# 绘制成本函数随迭代次数的下降曲线\r\n",
    "iterations = np.arange(1, iters+1, 1, dtype=int)\r\n",
    "fig, plt_cost = plt.subplots(figsize=(6, 4))\r\n",
    "plt_cost.plot(iterations, cost, label='Cost', color='dodgerblue')\r\n",
    "plt_cost.set_ylabel('Cost')\r\n",
    "plt_cost.set_xlabel('Iterations')\r\n",
    "plt_cost.set_title('Cost descent by iterations')\r\n",
    "plt.show()"
   ],
   "outputs": [
    {
     "output_type": "display_data",
     "data": {
      "image/png": "[encoded data removed]",
      "text/plain": [
       "<Figure size 432x288 with 1 Axes>"
      ]
     },
     "metadata": {
      "needs_background": "light"
     }
    }
   ],
   "metadata": {}
  },
  {
   "cell_type": "code",
   "execution_count": 12,
   "source": [
    "# 对比实际数据点与预测函数\r\n",
    "x_draw = np.linspace(data.Population.min(), data.Population.max(), 100)\r\n",
    "f = g[0,0] + (g[0,1] * x_draw)\r\n",
    "\r\n",
    "fig, plt_train = plt.subplots(figsize=(6, 4))\r\n",
    "plt_train.plot(x_draw, f, label='Prediction')\r\n",
    "plt_train.scatter(np.array(X[:,1]), np.array(y[:,0]), alpha=0.6, label='Training data')\r\n",
    "plt_train.legend(loc=2)\r\n",
    "plt_train.set_ylabel('Profit')\r\n",
    "plt_train.set_xlabel('Population')\r\n",
    "plt_train.set_title('Predicted Profit vs. Population Size')\r\n",
    "plt.show()"
   ],
   "outputs": [
    {
     "output_type": "display_data",
     "data": {
      "image/png": "[encoded data removed]",
      "text/plain": [
       "<Figure size 432x288 with 1 Axes>"
      ]
     },
     "metadata": {
      "needs_background": "light"
     }
    }
   ],
   "metadata": {}
  },
  {
   "cell_type": "code",
   "execution_count": 13,
   "source": [
    "# 试一下改变参数学习率和迭代次数，看看效果（大家也可以自行试试）\r\n",
    "alpha_2 = 0.01\r\n",
    "iters_2 = 10000\r\n",
    "g_2, cost_2 = gradientDescent(X, y, theta, alpha_2, iters_2)\r\n",
    "g_2, cost_2[-1]"
   ],
   "outputs": [
    {
     "output_type": "execute_result",
     "data": {
      "text/plain": [
       "(matrix([[-3.89578082,  1.19303364]]), 4.476971375975179)"
      ]
     },
     "metadata": {},
     "execution_count": 13
    }
   ],
   "metadata": {}
  },
  {
   "cell_type": "markdown",
   "source": [
    "将迭代次数增加到原来的10倍，但成本减小的程度非常小，可见对该模型而言，已经达到了较好的水平了。\r\n",
    "\r\n",
    "如果想进一步提升拟合度，可能需要更换模型进行求解了。"
   ],
   "metadata": {}
  },
  {
   "cell_type": "markdown",
   "source": [
    "## 多变量线性回归\r\n",
    "\r\n",
    "P2: 房屋价格数据集 ex1data2.txt，其中有2个变量（房子的大小，卧室的数量）和目标（房子的价格），建立线性回归模型预测房价。"
   ],
   "metadata": {}
  },
  {
   "cell_type": "code",
   "execution_count": 14,
   "source": [
    "# 读取 ex1data2.txt\r\n",
    "path =  'ex1data2.txt'\r\n",
    "data2 = pd.read_csv(path, header=None, names=['Size', 'Bedrooms', 'Price'])\r\n",
    "data2.head()"
   ],
   "outputs": [
    {
     "output_type": "execute_result",
     "data": {
      "text/html": [
       "<div>\n",
       "<style scoped>\n",
       "    .dataframe tbody tr th:only-of-type {\n",
       "        vertical-align: middle;\n",
       "    }\n",
       "\n",
       "    .dataframe tbody tr th {\n",
       "        vertical-align: top;\n",
       "    }\n",
       "\n",
       "    .dataframe thead th {\n",
       "        text-align: right;\n",
       "    }\n",
       "</style>\n",
       "<table border=\"1\" class=\"dataframe\">\n",
       "  <thead>\n",
       "    <tr style=\"text-align: right;\">\n",
       "      <th></th>\n",
       "      <th>Size</th>\n",
       "      <th>Bedrooms</th>\n",
       "      <th>Price</th>\n",
       "    </tr>\n",
       "  </thead>\n",
       "  <tbody>\n",
       "    <tr>\n",
       "      <th>0</th>\n",
       "      <td>2104</td>\n",
       "      <td>3</td>\n",
       "      <td>399900</td>\n",
       "    </tr>\n",
       "    <tr>\n",
       "      <th>1</th>\n",
       "      <td>1600</td>\n",
       "      <td>3</td>\n",
       "      <td>329900</td>\n",
       "    </tr>\n",
       "    <tr>\n",
       "      <th>2</th>\n",
       "      <td>2400</td>\n",
       "      <td>3</td>\n",
       "      <td>369000</td>\n",
       "    </tr>\n",
       "    <tr>\n",
       "      <th>3</th>\n",
       "      <td>1416</td>\n",
       "      <td>2</td>\n",
       "      <td>232000</td>\n",
       "    </tr>\n",
       "    <tr>\n",
       "      <th>4</th>\n",
       "      <td>3000</td>\n",
       "      <td>4</td>\n",
       "      <td>539900</td>\n",
       "    </tr>\n",
       "  </tbody>\n",
       "</table>\n",
       "</div>"
      ],
      "text/plain": [
       "   Size  Bedrooms   Price\n",
       "0  2104         3  399900\n",
       "1  1600         3  329900\n",
       "2  2400         3  369000\n",
       "3  1416         2  232000\n",
       "4  3000         4  539900"
      ]
     },
     "metadata": {},
     "execution_count": 14
    }
   ],
   "metadata": {}
  },
  {
   "cell_type": "markdown",
   "source": [
    "对P2，对数据进行预处理 - 特征归一化。"
   ],
   "metadata": {}
  },
  {
   "cell_type": "code",
   "execution_count": 15,
   "source": [
    "data2 = (data2 - data2.mean()) / data2.std()\r\n",
    "data2.head()"
   ],
   "outputs": [
    {
     "output_type": "execute_result",
     "data": {
      "text/html": [
       "<div>\n",
       "<style scoped>\n",
       "    .dataframe tbody tr th:only-of-type {\n",
       "        vertical-align: middle;\n",
       "    }\n",
       "\n",
       "    .dataframe tbody tr th {\n",
       "        vertical-align: top;\n",
       "    }\n",
       "\n",
       "    .dataframe thead th {\n",
       "        text-align: right;\n",
       "    }\n",
       "</style>\n",
       "<table border=\"1\" class=\"dataframe\">\n",
       "  <thead>\n",
       "    <tr style=\"text-align: right;\">\n",
       "      <th></th>\n",
       "      <th>Size</th>\n",
       "      <th>Bedrooms</th>\n",
       "      <th>Price</th>\n",
       "    </tr>\n",
       "  </thead>\n",
       "  <tbody>\n",
       "    <tr>\n",
       "      <th>0</th>\n",
       "      <td>0.130010</td>\n",
       "      <td>-0.223675</td>\n",
       "      <td>0.475747</td>\n",
       "    </tr>\n",
       "    <tr>\n",
       "      <th>1</th>\n",
       "      <td>-0.504190</td>\n",
       "      <td>-0.223675</td>\n",
       "      <td>-0.084074</td>\n",
       "    </tr>\n",
       "    <tr>\n",
       "      <th>2</th>\n",
       "      <td>0.502476</td>\n",
       "      <td>-0.223675</td>\n",
       "      <td>0.228626</td>\n",
       "    </tr>\n",
       "    <tr>\n",
       "      <th>3</th>\n",
       "      <td>-0.735723</td>\n",
       "      <td>-1.537767</td>\n",
       "      <td>-0.867025</td>\n",
       "    </tr>\n",
       "    <tr>\n",
       "      <th>4</th>\n",
       "      <td>1.257476</td>\n",
       "      <td>1.090417</td>\n",
       "      <td>1.595389</td>\n",
       "    </tr>\n",
       "  </tbody>\n",
       "</table>\n",
       "</div>"
      ],
      "text/plain": [
       "       Size  Bedrooms     Price\n",
       "0  0.130010 -0.223675  0.475747\n",
       "1 -0.504190 -0.223675 -0.084074\n",
       "2  0.502476 -0.223675  0.228626\n",
       "3 -0.735723 -1.537767 -0.867025\n",
       "4  1.257476  1.090417  1.595389"
      ]
     },
     "metadata": {},
     "execution_count": 15
    }
   ],
   "metadata": {}
  },
  {
   "cell_type": "markdown",
   "source": [
    "重复 P1 的预处理步骤 - 添加单元列"
   ],
   "metadata": {}
  },
  {
   "cell_type": "code",
   "execution_count": 16,
   "source": [
    "# add ones column\r\n",
    "data2.insert(0, 'Ones', 1)\r\n",
    "\r\n",
    "# set X (training data) and y (target variable)\r\n",
    "cols = data2.shape[1]\r\n",
    "X2 = data2.iloc[:,0:cols-1]\r\n",
    "y2 = data2.iloc[:,cols-1:cols]\r\n",
    "\r\n",
    "# convert to matrices and initialize theta\r\n",
    "X2 = np.matrix(X2.values)\r\n",
    "y2 = np.matrix(y2.values)\r\n",
    "theta2 = np.matrix(np.array([0,0,0]))\r\n",
    "\r\n",
    "# perform linear regression on the data set\r\n",
    "g2, cost2 = gradientDescent(X2, y2, theta2, alpha, iters)\r\n",
    "\r\n",
    "# show final theta and cost\r\n",
    "g2, cost2[-1]"
   ],
   "outputs": [
    {
     "output_type": "execute_result",
     "data": {
      "text/plain": [
       "(matrix([[-9.77173425e-17,  8.78503652e-01, -4.69166570e-02]]),\n",
       " 0.1307033696077189)"
      ]
     },
     "metadata": {},
     "execution_count": 16
    }
   ],
   "metadata": {}
  },
  {
   "cell_type": "code",
   "execution_count": 17,
   "source": [
    "# 绘制成本函数随迭代次数的下降曲线\r\n",
    "iterations = np.arange(1, iters+1, 1, dtype=int)\r\n",
    "fig, plt_cost = plt.subplots(figsize=(6, 4))\r\n",
    "plt_cost.plot(iterations, cost2, label='Cost', color='dodgerblue')\r\n",
    "plt_cost.set_ylabel('Cost')\r\n",
    "plt_cost.set_xlabel('Iterations')\r\n",
    "plt_cost.set_title('Cost descent by iterations')\r\n",
    "plt.show()"
   ],
   "outputs": [
    {
     "output_type": "display_data",
     "data": {
      "image/png": "[encoded data removed]",
      "text/plain": [
       "<Figure size 432x288 with 1 Axes>"
      ]
     },
     "metadata": {
      "needs_background": "light"
     }
    }
   ],
   "metadata": {}
  },
  {
   "cell_type": "code",
   "execution_count": 18,
   "source": [
    "# 对比实际数据点与预测函数\r\n",
    "\r\n",
    "# 三维数据\r\n",
    "x1_draw = np.linspace(data2.Size.min(), data2.Size.max(), 100)\r\n",
    "x2_draw = np.linspace(data2.Bedrooms.min(), data2.Bedrooms.max(), 100)\r\n",
    "f = g2[0,0] + g2[0,1] * x1_draw + g2[0,2] * x2_draw\r\n",
    "\r\n",
    "import matplotlib as mpl\r\n",
    "from mpl_toolkits.mplot3d import Axes3D\r\n",
    "\r\n",
    "fig = plt.figure(figsize=(12, 6))\r\n",
    "plt_train = fig.gca(projection='3d')\r\n",
    "\r\n",
    "# fig, plt_train = plt.subplots(figsize=(6, 4))\r\n",
    "plt_train.plot(x1_draw, x2_draw, f, label='Prediction')\r\n",
    "plt_train.scatter(np.array(X2[:,1]), np.array(X2[:,2]), np.array(y2[:,0]), alpha=0.6, label='Training data')\r\n",
    "plt_train.legend(loc=2)\r\n",
    "plt_train.set_xlabel('Size')\r\n",
    "plt_train.set_ylabel('Bedrooms')\r\n",
    "plt_train.set_zlabel('Price')\r\n",
    "plt_train.set_title('Predicted Price vs. Size and Bedrooms')\r\n",
    "plt.show()"
   ],
   "outputs": [
    {
     "output_type": "stream",
     "name": "stderr",
     "text": [
      "C:\\Users\\ZEHUAN~1\\AppData\\Local\\Temp/ipykernel_132712/1169568881.py:12: MatplotlibDeprecationWarning: Calling gca() with keyword arguments was deprecated in Matplotlib 3.4. Starting two minor releases later, gca() will take no keyword arguments. The gca() function should only be used to get the current axes, or if no axes exist, create new axes with default keyword arguments. To create a new axes with non-default arguments, use plt.axes() or plt.subplot().\n",
      "  plt_train = fig.gca(projection='3d')\n"
     ]
    },
    {
     "output_type": "display_data",
     "data": {
      "image/png": "[encoded data removed]",
      "text/plain": [
       "<Figure size 864x432 with 1 Axes>"
      ]
     },
     "metadata": {
      "needs_background": "light"
     }
    }
   ],
   "metadata": {}
  },
  {
   "cell_type": "markdown",
   "source": [
    "## sklearn 线性回归模型\r\n",
    "\r\n",
    "我们也可以使用scikit-learn的线性回归函数，而不是从头开始实现这些算法。我们将scikit-learn的线性回归算法应用于第1部分的数据，并看看它的表现。"
   ],
   "metadata": {}
  },
  {
   "cell_type": "code",
   "execution_count": 19,
   "source": [
    "from sklearn import linear_model\r\n",
    "model = linear_model.LinearRegression()\r\n",
    "model.fit(X, y)"
   ],
   "outputs": [
    {
     "output_type": "execute_result",
     "data": {
      "text/plain": [
       "LinearRegression()"
      ]
     },
     "metadata": {},
     "execution_count": 19
    }
   ],
   "metadata": {}
  },
  {
   "cell_type": "code",
   "execution_count": 20,
   "source": [
    "# scikit-learn model的预测表现\r\n",
    "x = np.array(X[:, 1].A1)\r\n",
    "f = model.predict(X).flatten()\r\n",
    "\r\n",
    "fig, ax = plt.subplots(figsize=(6,4))\r\n",
    "ax.plot(x, f, 'r', label='Prediction')\r\n",
    "ax.scatter(data.Population, data.Profit, label='Training Data')\r\n",
    "ax.legend(loc=2)\r\n",
    "ax.set_xlabel('Population')\r\n",
    "ax.set_ylabel('Profit')\r\n",
    "ax.set_title('Predicted Profit vs. Population Size')\r\n",
    "plt.show()"
   ],
   "outputs": [
    {
     "output_type": "display_data",
     "data": {
      "image/png": "[encoded data removed]",
      "text/plain": [
       "<Figure size 432x288 with 1 Axes>"
      ]
     },
     "metadata": {
      "needs_background": "light"
     }
    }
   ],
   "metadata": {}
  },
  {
   "cell_type": "markdown",
   "source": [
    "## normal equation（正规方程）\r\n",
    "\r\n",
    "$$\r\n",
    "\\theta=(X^{T}X)^{-1}X^{T}y\r\n",
    "$$"
   ],
   "metadata": {}
  },
  {
   "cell_type": "code",
   "execution_count": 21,
   "source": [
    "# 正规方程\r\n",
    "def normalEqn(X, y):\r\n",
    "    return np.linalg.inv(X.T@X)@X.T@y # np.linalg.inv 求逆，X.T 转置，.dot(X) 矩阵乘法，可 @ 代替"
   ],
   "outputs": [],
   "metadata": {}
  },
  {
   "cell_type": "code",
   "execution_count": 22,
   "source": [
    "theta_nE = normalEqn(X2, y2)\r\n",
    "theta_nE, computeCost(X2, y2, theta_nE.T) # 转置处理是因为 theta_nE 为列向量矩阵，而 computeCost 的传入参数为横向量矩阵"
   ],
   "outputs": [
    {
     "output_type": "execute_result",
     "data": {
      "text/plain": [
       "(matrix([[-7.63278329e-17],\n",
       "         [ 8.84765988e-01],\n",
       "         [-5.31788197e-02]]),\n",
       " 0.13068648053904194)"
      ]
     },
     "metadata": {},
     "execution_count": 22
    }
   ],
   "metadata": {}
  },
  {
   "cell_type": "markdown",
   "source": [
    "批量梯度下降的结果：(matrix([[-9.77173425e-17,  8.78503652e-01, -4.69166570e-02]]), 0.1307033696077189)\r\n",
    "\r\n",
    "可见正规方程和批量梯度下降的结果存在一定的差异。"
   ],
   "metadata": {}
  }
 ],
 "metadata": {
  "orig_nbformat": 4,
  "language_info": {
   "name": "python",
   "version": "3.9.1",
   "mimetype": "text/x-python",
   "codemirror_mode": {
    "name": "ipython",
    "version": 3
   },
   "pygments_lexer": "ipython3",
   "nbconvert_exporter": "python",
   "file_extension": ".py"
  },
  "kernelspec": {
   "name": "python3",
   "display_name": "Python 3.9.1 64-bit"
  },
  "interpreter": {
   "hash": "0d008810b9c8467bcb3ca39aa2180e5b81b3a9acb136aab30d47954377cc5120"
  }
 },
 "nbformat": 4,
 "nbformat_minor": 2
}